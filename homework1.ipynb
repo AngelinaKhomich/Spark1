{
 "cells": [
  {
   "cell_type": "markdown",
   "id": "0589b81a",
   "metadata": {},
   "source": [
    "## Домашнее задание 1\n",
    "Найти самую длинную последовательность упорядоченных чисел в RDD и вывести ее"
   ]
  },
  {
   "cell_type": "code",
   "execution_count": 1,
   "id": "aa0b34e7",
   "metadata": {},
   "outputs": [],
   "source": [
    "import pyspark\n",
    "from pyspark import SparkContext\n",
    "from pyspark.sql import SparkSession\n"
   ]
  },
  {
   "cell_type": "code",
   "execution_count": 3,
   "id": "0853550b",
   "metadata": {},
   "outputs": [
    {
     "name": "stdout",
     "output_type": "stream",
     "text": [
      "[[30, 150, 180], [-10, 56], [34], [24, 45, 67, 123, 150], [44], [32, 66, 77, 88]]\n"
     ]
    },
    {
     "name": "stderr",
     "output_type": "stream",
     "text": [
      "24/03/30 19:33:47 WARN Utils: Service 'SparkUI' could not bind on port 4040. Attempting port 4041.\n",
      "24/03/30 19:33:47 WARN Utils: Service 'SparkUI' could not bind on port 4041. Attempting port 4042.\n"
     ]
    },
    {
     "name": "stdout",
     "output_type": "stream",
     "text": [
      "[24, 45, 67, 123, 150]\n"
     ]
    }
   ],
   "source": [
    "# разбиение данных на упорядоченные последовательности\n",
    "data = [30, 150, 180, -10, 56, 34, 24, 45, 67, 123, 150, 44, 32, 66, 77, 88]\n",
    "sequences = []\n",
    "seq = [data[0]]\n",
    "for x in data[1:]:\n",
    "    if x >= seq[-1]:\n",
    "        seq.append(x)\n",
    "    else:\n",
    "        sequences.append(seq)\n",
    "        seq = [x]\n",
    "if seq:\n",
    "    sequences.append(seq)\n",
    "    \n",
    "print(sequences)\n",
    "\n",
    "# поиск последовательности максимальной длины\n",
    "sc = SparkContext(\"local\", \"LongestSequence\")\n",
    "rdd = sc.parallelize(sequences)\n",
    "longest = rdd.max(key=lambda x: len(x))\n",
    "print(longest)\n",
    "\n",
    "sc.stop()"
   ]
  },
  {
   "cell_type": "code",
   "execution_count": null,
   "id": "973c18f9",
   "metadata": {},
   "outputs": [],
   "source": []
  },
  {
   "cell_type": "code",
   "execution_count": null,
   "id": "172efa4d",
   "metadata": {},
   "outputs": [],
   "source": []
  },
  {
   "cell_type": "code",
   "execution_count": null,
   "id": "11f73ed8",
   "metadata": {},
   "outputs": [],
   "source": []
  }
 ],
 "metadata": {
  "kernelspec": {
   "display_name": "Python 3 (ipykernel)",
   "language": "python",
   "name": "python3"
  },
  "language_info": {
   "codemirror_mode": {
    "name": "ipython",
    "version": 3
   },
   "file_extension": ".py",
   "mimetype": "text/x-python",
   "name": "python",
   "nbconvert_exporter": "python",
   "pygments_lexer": "ipython3",
   "version": "3.8.10"
  }
 },
 "nbformat": 4,
 "nbformat_minor": 5
}
